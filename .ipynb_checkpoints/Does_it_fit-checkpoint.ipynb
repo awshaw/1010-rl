{
 "cells": [
  {
   "cell_type": "code",
   "execution_count": 2,
   "metadata": {},
   "outputs": [],
   "source": [
    "import pieces as p\n",
    "import numpy as np\n",
    "import matplotlib.pyplot as plt"
   ]
  },
  {
   "cell_type": "code",
   "execution_count": 4,
   "metadata": {},
   "outputs": [],
   "source": [
    "# sample 5x5 grid\n",
    "grid = [[1, 1, 1, 0, 0],\n",
    "        [1, 0, 0, 1, 0],\n",
    "        [0, 0, 1, 0, 1],\n",
    "        [0, 1, 0, 0, 1],\n",
    "        [1, 1, 0, 0, 0]]"
   ]
  },
  {
   "cell_type": "code",
   "execution_count": 6,
   "metadata": {},
   "outputs": [
    {
     "name": "stdout",
     "output_type": "stream",
     "text": [
      "Rows: 2, Cols: 2\n",
      "Rows: 2, Cols: 1\n"
     ]
    }
   ],
   "source": [
    "# sample l2 & ln2 piece\n",
    "l2 = np.array([[1, 0],\n",
    "               [1, 1]])\n",
    "l2x = l2.shape[0]\n",
    "l2y= l2.shape[1]\n",
    "print(\"Rows: {}, Cols: {}\".format(l2x, l2y))\n",
    "\n",
    "ln2 = np.array([[1],\n",
    "                [1]])\n",
    "ln2x = ln2.shape[0]\n",
    "ln2y = ln2.shape[1]\n",
    "print(\"Rows: {}, Cols: {}\".format(ln2x, ln2y))"
   ]
  },
  {
   "cell_type": "code",
   "execution_count": 7,
   "metadata": {},
   "outputs": [],
   "source": [
    "# search for if either of the two pieces can fit\n",
    "pieces = [l2, ln2]\n",
    "\n",
    "for p in pieces:\n",
    "    "
   ]
  },
  {
   "cell_type": "code",
   "execution_count": null,
   "metadata": {},
   "outputs": [],
   "source": []
  },
  {
   "cell_type": "code",
   "execution_count": null,
   "metadata": {},
   "outputs": [],
   "source": []
  },
  {
   "cell_type": "code",
   "execution_count": null,
   "metadata": {},
   "outputs": [],
   "source": []
  },
  {
   "cell_type": "code",
   "execution_count": null,
   "metadata": {},
   "outputs": [],
   "source": []
  },
  {
   "cell_type": "code",
   "execution_count": null,
   "metadata": {},
   "outputs": [],
   "source": []
  },
  {
   "cell_type": "code",
   "execution_count": null,
   "metadata": {},
   "outputs": [],
   "source": []
  },
  {
   "cell_type": "code",
   "execution_count": null,
   "metadata": {},
   "outputs": [],
   "source": []
  },
  {
   "cell_type": "code",
   "execution_count": null,
   "metadata": {},
   "outputs": [],
   "source": []
  },
  {
   "cell_type": "code",
   "execution_count": null,
   "metadata": {},
   "outputs": [],
   "source": []
  },
  {
   "cell_type": "code",
   "execution_count": null,
   "metadata": {},
   "outputs": [],
   "source": []
  }
 ],
 "metadata": {
  "kernelspec": {
   "display_name": "Python 3",
   "language": "python",
   "name": "python3"
  },
  "language_info": {
   "codemirror_mode": {
    "name": "ipython",
    "version": 3
   },
   "file_extension": ".py",
   "mimetype": "text/x-python",
   "name": "python",
   "nbconvert_exporter": "python",
   "pygments_lexer": "ipython3",
   "version": "3.6.6"
  }
 },
 "nbformat": 4,
 "nbformat_minor": 2
}
