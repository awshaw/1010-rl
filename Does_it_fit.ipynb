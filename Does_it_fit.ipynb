{
 "cells": [
  {
   "cell_type": "code",
   "execution_count": 48,
   "metadata": {},
   "outputs": [],
   "source": [
    "import pieces as p\n",
    "import numpy as np\n",
    "import matplotlib.pyplot as plt"
   ]
  },
  {
   "cell_type": "code",
   "execution_count": 54,
   "metadata": {},
   "outputs": [],
   "source": [
    "# sample 5x5 grid\n",
    "grid = np.array([np.random.randint(0,2,10) for _ in range(10)], dtype=int)"
   ]
  },
  {
   "cell_type": "code",
   "execution_count": 30,
   "metadata": {},
   "outputs": [
    {
     "name": "stdout",
     "output_type": "stream",
     "text": [
      "Rows: 2, Cols: 2\n",
      "Rows: 2, Cols: 1\n"
     ]
    }
   ],
   "source": [
    "# sample l2 & ln2 piece\n",
    "l3 = np.array([[1, 0, 0],\n",
    "               [1, 0, 0],\n",
    "               [1, 1, 1]])\n",
    "l3x = l3.shape[0]\n",
    "l3y= l3.shape[1]\n",
    "print(\"Rows: {}, Cols: {}\".format(l2x, l2y))\n",
    "\n",
    "ln2 = np.array([[1],\n",
    "                [1]])\n",
    "ln2x = ln2.shape[0]\n",
    "ln2y = ln2.shape[1]\n",
    "print(\"Rows: {}, Cols: {}\".format(ln2x, ln2y))"
   ]
  },
  {
   "cell_type": "code",
   "execution_count": 64,
   "metadata": {},
   "outputs": [
    {
     "name": "stdout",
     "output_type": "stream",
     "text": [
      "[[1 1 1 0 0 0 1 1 0 1]\n",
      " [0 1 0 1 0 1 0 1 0 0]\n",
      " [1 1 1 1 0 1 0 1 1 1]\n",
      " [1 1 0 0 0 1 1 1 1 0]\n",
      " [1 0 0 1 0 1 1 1 1 1]\n",
      " [0 0 0 0 1 1 0 0 1 0]\n",
      " [1 0 0 1 1 1 0 1 0 1]\n",
      " [0 0 0 1 1 0 1 0 0 0]\n",
      " [1 1 1 1 1 1 1 1 0 1]\n",
      " [0 0 0 0 0 0 1 1 0 0]]\n",
      "[[1]\n",
      " [1]]\n",
      "2\n",
      "Count: 1\n",
      "Count: 2\n",
      "Count: 3\n",
      "Count: 4\n",
      "Count: 5\n",
      "Count: 6\n",
      "Count: 7\n",
      "Count: 8\n",
      "Count: 9\n",
      "Count: 10\n",
      "Count: 11\n",
      "Count: 12\n",
      "Count: 13\n",
      "Count: 14\n",
      "Count: 15\n",
      "Count: 16\n",
      "Count: 17\n",
      "[[1 1 1 1]]\n",
      "4\n",
      "Count: 18\n",
      "Count: 19\n",
      "Count: 20\n",
      "Count: 21\n",
      "[[1 1]\n",
      " [1 1]]\n",
      "4\n",
      "Count: 22\n",
      "Count: 23\n",
      "Count: 24\n"
     ]
    }
   ],
   "source": [
    "# brute force search for if ANY pieces of a given set can fit\n",
    "hand = p.rand_hand()\n",
    "count = 0\n",
    "print(grid)\n",
    "for h in hand:\n",
    "    print(h)\n",
    "    print(np.sum(h))\n",
    "    x = h.shape[0]\n",
    "    y = h.shape[1]\n",
    "    for i in range(10):\n",
    "        if i+x <= 10:\n",
    "            for j in range(10):\n",
    "                if j+y <= 10:\n",
    "                    ew_sum = np.sum([h, grid[i:i+x, j:j+y]])\n",
    "                    \n",
    "                    if ew_sum <= np.sum(h):\n",
    "                        count += 1\n",
    "                        print(\"Count: {}\".format(count))\n",
    "#                         print(ew_sum)\n",
    "#                         print(grid[i:i+x, j:j+y])"
   ]
  },
  {
   "cell_type": "code",
   "execution_count": 27,
   "metadata": {},
   "outputs": [
    {
     "data": {
      "text/plain": [
       "array([0, 1, 0, 0])"
      ]
     },
     "execution_count": 27,
     "metadata": {},
     "output_type": "execute_result"
    }
   ],
   "source": [
    "grid[1:5,2]"
   ]
  },
  {
   "cell_type": "code",
   "execution_count": null,
   "metadata": {},
   "outputs": [],
   "source": [
    "elem_sum = np.sum([p_space[locs[0], locs[1]], grid[locs[0], locs[1]]], axis=0)\n",
    "                        # print(elem_sum)\n",
    "                        illegal_count = np.where(elem_sum >= 3)\n",
    "                        # print(np.shape(illegal_count)[1])\n",
    "\n",
    "                        if np.shape(illegal_count)[1] == 0:\n",
    "                            p_space[locs[0], locs[1]] = 0\n",
    "                            grid[locs[0], locs[1]] = 2\n",
    "                            # Update score for placed piece\n",
    "                            score += (np.sum(elem_sum)/2)"
   ]
  },
  {
   "cell_type": "code",
   "execution_count": 52,
   "metadata": {},
   "outputs": [
    {
     "data": {
      "text/plain": [
       "array([[1, 0, 0, 1, 0, 1, 1, 1, 1, 1],\n",
       "       [1, 1, 1, 1, 0, 1, 1, 0, 1, 1],\n",
       "       [0, 1, 1, 1, 0, 0, 1, 1, 0, 0],\n",
       "       [1, 0, 1, 0, 0, 1, 0, 1, 0, 1],\n",
       "       [0, 1, 0, 1, 1, 0, 1, 1, 1, 0],\n",
       "       [0, 0, 1, 0, 1, 0, 1, 1, 1, 1],\n",
       "       [1, 1, 1, 0, 1, 1, 0, 1, 1, 0],\n",
       "       [0, 1, 1, 1, 0, 0, 0, 0, 0, 0],\n",
       "       [0, 0, 1, 0, 0, 0, 1, 0, 1, 1],\n",
       "       [1, 0, 0, 1, 0, 1, 0, 1, 0, 0]])"
      ]
     },
     "execution_count": 52,
     "metadata": {},
     "output_type": "execute_result"
    }
   ],
   "source": [
    "np.array([np.random.randint(0,2,10) for _ in range(10)], dtype=int)"
   ]
  },
  {
   "cell_type": "code",
   "execution_count": 62,
   "metadata": {},
   "outputs": [
    {
     "ename": "TypeError",
     "evalue": "list indices must be integers or slices, not tuple",
     "output_type": "error",
     "traceback": [
      "\u001b[0;31m---------------------------------------------------------------------------\u001b[0m",
      "\u001b[0;31mTypeError\u001b[0m                                 Traceback (most recent call last)",
      "\u001b[0;32m<ipython-input-62-c3bdc6833059>\u001b[0m in \u001b[0;36m<module>\u001b[0;34m\u001b[0m\n\u001b[0;32m----> 1\u001b[0;31m \u001b[0mhand\u001b[0m\u001b[0;34m[\u001b[0m\u001b[0;36m0\u001b[0m\u001b[0;34m,\u001b[0m\u001b[0;36m2\u001b[0m\u001b[0;34m]\u001b[0m\u001b[0;34m\u001b[0m\u001b[0m\n\u001b[0m",
      "\u001b[0;31mTypeError\u001b[0m: list indices must be integers or slices, not tuple"
     ]
    }
   ],
   "source": []
  },
  {
   "cell_type": "code",
   "execution_count": 63,
   "metadata": {},
   "outputs": [
    {
     "data": {
      "text/plain": [
       "0"
      ]
     },
     "execution_count": 63,
     "metadata": {},
     "output_type": "execute_result"
    }
   ],
   "source": [
    "len([])"
   ]
  },
  {
   "cell_type": "code",
   "execution_count": null,
   "metadata": {},
   "outputs": [],
   "source": []
  },
  {
   "cell_type": "code",
   "execution_count": null,
   "metadata": {},
   "outputs": [],
   "source": []
  },
  {
   "cell_type": "code",
   "execution_count": null,
   "metadata": {},
   "outputs": [],
   "source": []
  },
  {
   "cell_type": "code",
   "execution_count": null,
   "metadata": {},
   "outputs": [],
   "source": []
  },
  {
   "cell_type": "code",
   "execution_count": null,
   "metadata": {},
   "outputs": [],
   "source": []
  }
 ],
 "metadata": {
  "kernelspec": {
   "display_name": "Python 3",
   "language": "python",
   "name": "python3"
  },
  "language_info": {
   "codemirror_mode": {
    "name": "ipython",
    "version": 3
   },
   "file_extension": ".py",
   "mimetype": "text/x-python",
   "name": "python",
   "nbconvert_exporter": "python",
   "pygments_lexer": "ipython3",
   "version": "3.6.6"
  }
 },
 "nbformat": 4,
 "nbformat_minor": 2
}
